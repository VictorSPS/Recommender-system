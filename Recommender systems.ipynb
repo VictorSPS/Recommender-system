{
 "cells": [
  {
   "cell_type": "markdown",
   "metadata": {},
   "source": [
    "# Recommender systems of Newegg.com"
   ]
  },
  {
   "cell_type": "markdown",
   "metadata": {},
   "source": [
    "For our topic, I will examine newegg.com website. This website kind of similar with Amazon, but it has its differences. I would say newegg is less advanced than Amazon, more specific in electronics, and less aggressive in recommender system than Amazon. Newegg created for customers who look for the lowest priced product or deal, or specific product for the good price. \n",
    "\n",
    "For websites like newegg is very important to understand the right pattern of their customers to offer the right product within the category. Understanding of customer buying behavior and offering the right products and services are required for the proper up-sell and cross-sell processes. \n",
    "Main goal of almost any businesses is to be successful and make money. And recommender systems are one of the major ways to succeed in gaining of the sales and increasing the profit for businesses like newegg.com. They collect customers buying data and then use the right models to predict customer’s needs. \n",
    "One of the system is content-based recommendation. Newegg using user’s item and profile features to make recommendations. If a user was interested in an item in the past, they will once again be interested in it in the future.\n",
    "\n",
    "Newegg also using collaborative filtering systems. Collaborative filtering systems are based on the assumption that if a user likes item A and another user likes the same item A as well as another item, item B, the first user could also be interested in the second item. It makes recommendations based on historic users’ preference for items. Collaborative filtering is currently one of the most frequently used approaches and usually provides better results than content-based recommendations. Collaborative filtering also has different approaches (like nearest-neighbor methods that are based on the similarity between pairs of items or users), and two methods creating a new latent space (matrix factorization and deep learning).\n",
    "\n",
    "As an improvement for Newegg, I would probably make the recommender system more aggressive with wider algorithm. Like when you’re shopping Amazon, you’re getting recommendations on similar products; recommendations on products that were bought by customers who bought your product; comparison between products; recommendations on different bundles with your product etc. That’s why 35% of the purchases on Amazon are the result of their recommender system. \n",
    "\n",
    "\n",
    "\n",
    "\n",
    "\n",
    "\n",
    "\n",
    "\n",
    "\n",
    "\n",
    "\n",
    "\n"
   ]
  }
 ],
 "metadata": {
  "kernelspec": {
   "display_name": "Python 3",
   "language": "python",
   "name": "python3"
  },
  "language_info": {
   "codemirror_mode": {
    "name": "ipython",
    "version": 3
   },
   "file_extension": ".py",
   "mimetype": "text/x-python",
   "name": "python",
   "nbconvert_exporter": "python",
   "pygments_lexer": "ipython3",
   "version": "3.7.1"
  }
 },
 "nbformat": 4,
 "nbformat_minor": 2
}
